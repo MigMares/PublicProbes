{
 "cells": [
  {
   "cell_type": "markdown",
   "id": "d93ffd8f-1893-476e-a51a-010a210e8553",
   "metadata": {},
   "source": [
    "<center>\n",
    "    <img src=\"https://cf-courses-data.s3.us.cloud-object-storage.appdomain.cloud/IBMDeveloperSkillsNetwork-DS0105EN-SkillsNetwork/labs/Module2/images/SN_web_lightmode.png\" width=\"300\" alt=\"cognitiveclass.ai logo\">\n",
    "</center>"
   ]
  },
  {
   "cell_type": "markdown",
   "id": "30d01cfb-e4d2-4a24-82a7-f100a3b10521",
   "metadata": {},
   "source": [
    "#### Add your code below following the instructions given in the course"
   ]
  },
  {
   "cell_type": "markdown",
   "id": "601366bb-9962-477f-b4c4-e8a6f7f6cf0b",
   "metadata": {},
   "source": [
    "# Data Science Tools and Ecosystem"
   ]
  },
  {
   "cell_type": "markdown",
   "id": "40678938-3e47-4b07-924d-58acc29c043d",
   "metadata": {},
   "source": [
    "In this notebook, Data Science Tools and Ecosystem are summarized."
   ]
  },
  {
   "cell_type": "markdown",
   "id": "8bcfc7eb-d967-4e10-8a21-b74ddac30ad4",
   "metadata": {},
   "source": [
    "**Objectives:**\n",
    "* Libraries \n",
    "* Tools \n",
    "* Languages"
   ]
  },
  {
   "cell_type": "markdown",
   "id": "25e829dc-3b77-49e3-b7e1-f19faa49938d",
   "metadata": {},
   "source": [
    "Some of the popular languages that Data Scientists use are:\n",
    "1. Python\n",
    "2. R\n",
    "3. Julia"
   ]
  },
  {
   "cell_type": "markdown",
   "id": "5de019a1-9af4-4783-abbb-98406e8f6bff",
   "metadata": {},
   "source": [
    "Some of the commonly used libraries used by Data Scientists include:\n",
    "1. Pandas\n",
    "2. Keras\n",
    "3. Ggplot\n"
   ]
  },
  {
   "cell_type": "markdown",
   "id": "352e3c15-8474-4449-ac30-0c29e72e71bc",
   "metadata": {},
   "source": [
    "| ***Data Science Tools*** |\n",
    "|--------------------------|\n",
    "| 1. JupyterLab |\n",
    "| 2. RStudio    |\n",
    "| 3. Spyder     |\n"
   ]
  },
  {
   "cell_type": "markdown",
   "id": "802bb77d-1d12-435b-b5bc-84f4910ca384",
   "metadata": {},
   "source": [
    "### Below are a few examples of evaluating arithmetic expressions in Python."
   ]
  },
  {
   "cell_type": "code",
   "execution_count": 20,
   "id": "537d96d1-de2d-40e3-ac02-2969a83d21c4",
   "metadata": {},
   "outputs": [
    {
     "data": {
      "text/plain": [
       "17"
      ]
     },
     "execution_count": 20,
     "metadata": {},
     "output_type": "execute_result"
    }
   ],
   "source": [
    "# This a simple arithmetic expression to mutiply then add integers\n",
    "(3*4)+5"
   ]
  },
  {
   "cell_type": "code",
   "execution_count": 22,
   "id": "469b396d-54ee-43d5-a837-438d56b12855",
   "metadata": {},
   "outputs": [
    {
     "data": {
      "text/plain": [
       "3.3333333333333335"
      ]
     },
     "execution_count": 22,
     "metadata": {},
     "output_type": "execute_result"
    }
   ],
   "source": [
    "# This will convert 200 minutes to hours by diving by 60\n",
    "(200 / 60)"
   ]
  },
  {
   "cell_type": "markdown",
   "id": "c3e6a871-7935-4642-8398-1553ac41abbb",
   "metadata": {},
   "source": [
    "## Author \n",
    "Miguel"
   ]
  }
 ],
 "metadata": {
  "kernelspec": {
   "display_name": "Python 3 (ipykernel)",
   "language": "python",
   "name": "python3"
  },
  "language_info": {
   "codemirror_mode": {
    "name": "ipython",
    "version": 3
   },
   "file_extension": ".py",
   "mimetype": "text/x-python",
   "name": "python",
   "nbconvert_exporter": "python",
   "pygments_lexer": "ipython3",
   "version": "3.12.5"
  }
 },
 "nbformat": 4,
 "nbformat_minor": 5
}
